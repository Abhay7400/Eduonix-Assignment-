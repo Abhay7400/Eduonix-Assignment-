{
 "cells": [
  {
   "cell_type": "code",
   "execution_count": 5,
   "id": "c347ab76",
   "metadata": {},
   "outputs": [
    {
     "name": "stdout",
     "output_type": "stream",
     "text": [
      "Enter the person's age: 10\n",
      "Enter the desired time unit (years, months, weeks, days, hours, minutes, or seconds): seconds\n",
      "10 years is equivalent to approximately 315569520.00 seconds.\n"
     ]
    }
   ],
   "source": [
    "def calculate_duration(age, time_unit):\n",
    "    \n",
    "\n",
    "    if time_unit not in ['years', 'months', 'weeks', 'days', 'hours', 'minutes', 'seconds']:\n",
    "        raise ValueError(\"Invalid time unit. Please choose from 'years', 'months', 'weeks', 'days', 'hours', 'minutes', or 'seconds'.\")\n",
    "\n",
    "  \n",
    "    if time_unit == 'years':\n",
    "        return age\n",
    "    elif time_unit == 'months':\n",
    "        return age * 12\n",
    "    elif time_unit == 'weeks':\n",
    "        return age * 52.142857 \n",
    "    elif time_unit == 'days':\n",
    "        return age * 365.2425\n",
    "    elif time_unit == 'hours':\n",
    "        return age * 365.2425 * 24\n",
    "    elif time_unit == 'minutes':\n",
    "        return age * 365.2425 * 24 * 60\n",
    "    else:\n",
    "        return age * 365.2425 * 24 * 60 * 60\n",
    "\n",
    "# Example usage\n",
    "age = int(input(\"Enter the person's age: \"))\n",
    "time_unit = input(\"Enter the desired time unit (years, months, weeks, days, hours, minutes, or seconds): \")\n",
    "\n",
    "try:\n",
    "    duration = calculate_duration(age, time_unit.lower())\n",
    "    print(f\"{age} years is equivalent to approximately {duration:.2f} {time_unit}.\")\n",
    "except ValueError as e:\n",
    "    print(e)\n"
   ]
  },
  {
   "cell_type": "code",
   "execution_count": null,
   "id": "a96a5b11",
   "metadata": {},
   "outputs": [],
   "source": []
  },
  {
   "cell_type": "code",
   "execution_count": null,
   "id": "2036cb19",
   "metadata": {},
   "outputs": [],
   "source": []
  }
 ],
 "metadata": {
  "kernelspec": {
   "display_name": "Python 3 (ipykernel)",
   "language": "python",
   "name": "python3"
  },
  "language_info": {
   "codemirror_mode": {
    "name": "ipython",
    "version": 3
   },
   "file_extension": ".py",
   "mimetype": "text/x-python",
   "name": "python",
   "nbconvert_exporter": "python",
   "pygments_lexer": "ipython3",
   "version": "3.11.5"
  }
 },
 "nbformat": 4,
 "nbformat_minor": 5
}
